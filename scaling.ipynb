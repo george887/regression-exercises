{
 "cells": [
  {
   "cell_type": "markdown",
   "metadata": {},
   "source": [
    "### 1. Apply the scalers we talked about in this lesson to your data and visualize the results in a way you find helpful."
   ]
  },
  {
   "cell_type": "code",
   "execution_count": null,
   "metadata": {},
   "outputs": [],
   "source": [
    "import matplotlib.pyplot as plt\n",
    "import sklearn.preprocessing\n",
    "from sklearn.model_selection import train_test_split\n",
    "import numpy as np\n",
    "import pandas as pd\n",
    "import seaborn as sns\n",
    "from sklearn.preprocessing import QuantileTransformer\n",
    "\n",
    "from acquire import get_telco_data\n",
    "from prepare import prepare_telco_all\n",
    "from prepare import prepare_telco\n",
    "import warnings\n",
    "warnings.filterwarnings(\"ignore\")"
   ]
  },
  {
   "cell_type": "code",
   "execution_count": null,
   "metadata": {},
   "outputs": [],
   "source": [
    "df = get_telco_data()\n",
    "df.head()"
   ]
  },
  {
   "cell_type": "code",
   "execution_count": null,
   "metadata": {},
   "outputs": [],
   "source": [
    "train, validate, test = prepare_telco(df)\n",
    "print(f'train -> {train.shape}')\n",
    "print(f'validate -> {validate.shape}')\n",
    "print(f'test -> {test.shape}')\n",
    "train.head().T"
   ]
  },
  {
   "cell_type": "code",
   "execution_count": null,
   "metadata": {},
   "outputs": [],
   "source": [
    "df.plot.scatter(y ='monthly_charges', x ='tenure')"
   ]
  },
  {
   "cell_type": "code",
   "execution_count": null,
   "metadata": {},
   "outputs": [],
   "source": [
    "sns.relplot(x='tenure', y='monthly_charges', hue='contract_type', data=df)"
   ]
  },
  {
   "cell_type": "code",
   "execution_count": null,
   "metadata": {},
   "outputs": [],
   "source": [
    "print(df.tenure.describe())"
   ]
  },
  {
   "cell_type": "code",
   "execution_count": null,
   "metadata": {},
   "outputs": [],
   "source": [
    "train.tenure.plot.hist()"
   ]
  },
  {
   "cell_type": "code",
   "execution_count": null,
   "metadata": {},
   "outputs": [],
   "source": [
    "# 1. create the object\n",
    "scaler = sklearn.preprocessing.MinMaxScaler()\n",
    "# 2. fit the object\n",
    "scaler.fit(train[['tenure']])\n",
    "# 3. use the object\n",
    "train['tenure_scaled'] = scaler.transform(train[['tenure']])\n",
    "test['tenure_scaled'] = scaler.transform(test[['tenure']])\n",
    "validate['tenure_scaled'] = scaler.transform(validate[['tenure']])"
   ]
  },
  {
   "cell_type": "code",
   "execution_count": null,
   "metadata": {},
   "outputs": [],
   "source": [
    "plt.figure(figsize=(13, 6))\n",
    "plt.subplot(121)\n",
    "train.tenure.plot.hist(title='Original')\n",
    "plt.subplot(122)\n",
    "train.tenure_scaled.plot.hist(title='Min-Max Scaled')"
   ]
  },
  {
   "cell_type": "markdown",
   "metadata": {},
   "source": [
    "### MinMaxScaler()"
   ]
  },
  {
   "cell_type": "code",
   "execution_count": null,
   "metadata": {},
   "outputs": [],
   "source": [
    "# 1. create the object\n",
    "scaler = sklearn.preprocessing.MinMaxScaler()\n",
    "# 2. fit the object\n",
    "scaler.fit(train[['monthly_charges']])\n",
    "# 3. use the object\n",
    "train['monthly_charges_scaled'] = scaler.transform(train[['monthly_charges']])\n",
    "test['monthly_charges_scaled'] = scaler.transform(test[['monthly_charges']])\n",
    "validate['monthly_charges_scaled'] = scaler.transform(validate[['monthly_charges']])"
   ]
  },
  {
   "cell_type": "code",
   "execution_count": null,
   "metadata": {},
   "outputs": [],
   "source": [
    "plt.figure(figsize=(13, 6))\n",
    "plt.subplot(121)\n",
    "train.monthly_charges.plot.hist(title='Original')\n",
    "plt.subplot(122)\n",
    "train.monthly_charges_scaled.plot.hist(title='Min-Max Scaled')"
   ]
  },
  {
   "cell_type": "code",
   "execution_count": null,
   "metadata": {},
   "outputs": [],
   "source": [
    "train.T"
   ]
  },
  {
   "cell_type": "markdown",
   "metadata": {},
   "source": [
    "### StandardScaler()"
   ]
  },
  {
   "cell_type": "code",
   "execution_count": null,
   "metadata": {},
   "outputs": [],
   "source": [
    "# 1. create the object\n",
    "scaler = sklearn.preprocessing.StandardScaler()\n",
    "# 2. fit the object\n",
    "scaler.fit(train[['monthly_charges']])\n",
    "# 3. use the object\n",
    "train['monthly_charges_scaled'] = scaler.transform(train[['monthly_charges']])\n",
    "test['monthly_charges_scaled'] = scaler.transform(test[['monthly_charges']])\n",
    "validate['monthly_charges_scaled'] = scaler.transform(validate[['monthly_charges']])"
   ]
  },
  {
   "cell_type": "code",
   "execution_count": null,
   "metadata": {},
   "outputs": [],
   "source": [
    "plt.figure(figsize=(13, 6))\n",
    "plt.subplot(121)\n",
    "train.monthly_charges.plot.hist(title='Original')\n",
    "plt.subplot(122)\n",
    "train.monthly_charges_scaled.plot.hist(title='Standard Scaled')"
   ]
  },
  {
   "cell_type": "code",
   "execution_count": null,
   "metadata": {},
   "outputs": [],
   "source": [
    "# Function created to run scaler.fit_transform. Way to show visual\n",
    "def visualize_scaler(scaler, scaler_name):\n",
    "    monthly_charges_scaled = scaler.fit_transform(train[['monthly_charges']])\n",
    "    fig = plt.figure(figsize=(12, 10))\n",
    "    gs = plt.GridSpec(2, 2) # subplot with a 2x2 grid\n",
    "    ax1 = fig.add_subplot(gs[0, :]) # the first row, all the columns\n",
    "    ax2 = fig.add_subplot(gs[1, 0]) # second row, first column\n",
    "    ax3 = fig.add_subplot(gs[1, 1]) # second row, second column\n",
    "    \n",
    "    ax1.scatter(train.monthly_charges, monthly_charges_scaled)\n",
    "    ax1.set(xlabel='monthly_charges', ylabel='monthly_charges_scaled', title=scaler_name)\n",
    "    ax2.hist(train.monthly_charges)\n",
    "    ax2.set(title='Original')\n",
    "    ax3.hist(monthly_charges_scaled)\n",
    "    ax3.set(title='Scaled')"
   ]
  },
  {
   "cell_type": "code",
   "execution_count": null,
   "metadata": {},
   "outputs": [],
   "source": [
    "visualize_scaler(sklearn.preprocessing.MinMaxScaler(), 'Min-Max Scaling')\n"
   ]
  },
  {
   "cell_type": "code",
   "execution_count": null,
   "metadata": {},
   "outputs": [],
   "source": [
    "visualize_scaler(sklearn.preprocessing.StandardScaler(), 'Min-Max Scaling')\n",
    "\n"
   ]
  },
  {
   "cell_type": "code",
   "execution_count": null,
   "metadata": {},
   "outputs": [],
   "source": [
    "#train = train[[\"monthly_charges\", 'tenure_scaled', 'monthly_charges_scaled']]\n",
    "#validate = validate[[\"monthly_charges\", 'tenure_scaled', 'monthly_charges_scaled']]\n",
    "#test = test[[\"monthly_charges\", 'tenure_scaled', 'monthly_charges_scaled']]"
   ]
  },
  {
   "cell_type": "code",
   "execution_count": null,
   "metadata": {},
   "outputs": [],
   "source": [
    "train.head().T"
   ]
  },
  {
   "cell_type": "markdown",
   "metadata": {},
   "source": [
    "### 2. Apply the .inverse_transform method to your scaled data. Is the resulting dataset the exact same as the original data?"
   ]
  },
  {
   "cell_type": "code",
   "execution_count": null,
   "metadata": {},
   "outputs": [],
   "source": [
    "# 1. create the object\n",
    "scaler = sklearn.preprocessing.MinMaxScaler()\n",
    "# 2. fit the object\n",
    "scaler.fit(train[[\"monthly_charges\", 'total_charges']])\n",
    "# 3. use the object\n",
    "train_scaled = scaler.inverse_transform(train[['monthly_charges','total_charges']])\n",
    "# Turning np array into df\n",
    "train_scaled = pd.DataFrame(train_scaled, columns=['monthly_charges_scaled','total_charges_scaled'])\n",
    "train_scaled\n",
    "\n",
    "scaler.inverse_transform(train_scaled[['monthly_charges_scaled', 'total_charges_scaled']])"
   ]
  },
  {
   "cell_type": "markdown",
   "metadata": {},
   "source": [
    "### The data is the same. Have to inverse transform on the scaled data."
   ]
  },
  {
   "cell_type": "markdown",
   "metadata": {},
   "source": [
    "### 3. Read the documentation for sklearn's QuantileTransformer. Use normal for the output_distribution and apply this scaler to your data. Visualize the result of your data scaling.\n"
   ]
  },
  {
   "cell_type": "code",
   "execution_count": null,
   "metadata": {},
   "outputs": [],
   "source": [
    "train = train[[ \"monthly_charges\"]]\n",
    "train"
   ]
  },
  {
   "cell_type": "code",
   "execution_count": null,
   "metadata": {},
   "outputs": [],
   "source": [
    "qt = QuantileTransformer(n_quantiles=10, random_state=0).fit(train)\n",
    "qt_transform = qt.transform(train)"
   ]
  },
  {
   "cell_type": "code",
   "execution_count": null,
   "metadata": {},
   "outputs": [],
   "source": [
    "train.head()"
   ]
  },
  {
   "cell_type": "code",
   "execution_count": null,
   "metadata": {},
   "outputs": [],
   "source": [
    "qt_transform.T"
   ]
  },
  {
   "cell_type": "code",
   "execution_count": null,
   "metadata": {},
   "outputs": [],
   "source": [
    "df= pd.DataFrame(scaler.transform(train), columns=train.columns.values).set_index([train.index.values])"
   ]
  },
  {
   "cell_type": "code",
   "execution_count": null,
   "metadata": {},
   "outputs": [],
   "source": [
    "df = df.rename(columns={\"monthly_charges\": \"monthly_charges_scaled\"})"
   ]
  },
  {
   "cell_type": "code",
   "execution_count": null,
   "metadata": {},
   "outputs": [],
   "source": [
    "df"
   ]
  },
  {
   "cell_type": "code",
   "execution_count": null,
   "metadata": {},
   "outputs": [],
   "source": [
    "train = pd.concat([train,df], axis=1)\n",
    "train"
   ]
  },
  {
   "cell_type": "code",
   "execution_count": null,
   "metadata": {},
   "outputs": [],
   "source": [
    "plt.figure(figsize=(13, 6))\n",
    "plt.subplot(121)\n",
    "train.monthly_charges_scaled.plot.hist(title='Original')\n",
    "plt.subplot(122)\n",
    "train.monthly_charges.plot.hist(title='Quantile Transformer Scaled')"
   ]
  },
  {
   "cell_type": "markdown",
   "metadata": {},
   "source": [
    "### Easier way of doing it"
   ]
  },
  {
   "cell_type": "code",
   "execution_count": null,
   "metadata": {},
   "outputs": [],
   "source": [
    "scaler = sklearn.preprocessing.QuantileTransformer(output_distribution='normal')\n",
    "# fit the scalar\n",
    "scaler.fit(train[['monthly_charges']])\n",
    "# use the scalar \n",
    "train['monthly_charges_scaled2'] = scaler.transform(train[['monthly_charges']])\n",
    "test['monthly_charges_scaled2'] = scaler.transform(test[['monthly_charges']])\n",
    "validate['monthly_charges_scaled2'] = scaler.transform(validate[['monthly_charges']])"
   ]
  },
  {
   "cell_type": "code",
   "execution_count": null,
   "metadata": {},
   "outputs": [],
   "source": [
    "train"
   ]
  },
  {
   "cell_type": "code",
   "execution_count": null,
   "metadata": {},
   "outputs": [],
   "source": [
    "!git status"
   ]
  },
  {
   "cell_type": "code",
   "execution_count": null,
   "metadata": {},
   "outputs": [],
   "source": [
    "#!git add scaling.ipynb"
   ]
  },
  {
   "cell_type": "code",
   "execution_count": null,
   "metadata": {},
   "outputs": [],
   "source": [
    "#!git commit -m \"adding first 3 problems\""
   ]
  },
  {
   "cell_type": "code",
   "execution_count": null,
   "metadata": {},
   "outputs": [],
   "source": [
    "#!git push"
   ]
  },
  {
   "cell_type": "code",
   "execution_count": null,
   "metadata": {},
   "outputs": [],
   "source": []
  },
  {
   "cell_type": "code",
   "execution_count": null,
   "metadata": {},
   "outputs": [],
   "source": []
  }
 ],
 "metadata": {
  "kernelspec": {
   "display_name": "Python 3",
   "language": "python",
   "name": "python3"
  },
  "language_info": {
   "codemirror_mode": {
    "name": "ipython",
    "version": 3
   },
   "file_extension": ".py",
   "mimetype": "text/x-python",
   "name": "python",
   "nbconvert_exporter": "python",
   "pygments_lexer": "ipython3",
   "version": "3.7.6"
  }
 },
 "nbformat": 4,
 "nbformat_minor": 4
}
